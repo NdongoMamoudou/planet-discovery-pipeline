{
 "cells": [
  {
   "cell_type": "markdown",
   "metadata": {},
   "source": [
    "### importer les bibliothe "
   ]
  },
  {
   "cell_type": "code",
   "execution_count": 2,
   "metadata": {},
   "outputs": [],
   "source": [
    "from pyspark.sql import SparkSession\n",
    "import pandas as pd \n",
    "import numpy as np \n",
    "import seaborn as sns \n",
    "import matplotlib.pyplot as plt\n",
    "from pyspark.sql.types import IntegerType, DoubleType, StringType\n"
   ]
  },
  {
   "cell_type": "markdown",
   "metadata": {},
   "source": [
    "### Afficher le dataframe"
   ]
  },
  {
   "cell_type": "code",
   "execution_count": 3,
   "metadata": {},
   "outputs": [],
   "source": [
    "#creer un session de spark\n",
    "spark = SparkSession.builder.appName(\"Planéte\").getOrCreate()"
   ]
  },
  {
   "cell_type": "code",
   "execution_count": 4,
   "metadata": {},
   "outputs": [],
   "source": [
    "# Lecture du fichier CSV depuis HDFS\n",
    "df_planets = spark.read.option(\"header\", True).csv(\"hdfs://namenode:9000/user/hive/planets/planets_dataset.csv\")"
   ]
  },
  {
   "cell_type": "code",
   "execution_count": 5,
   "metadata": {},
   "outputs": [
    {
     "name": "stdout",
     "output_type": "stream",
     "text": [
      "+------------+---------+--------+------------------+------------------+------------------+-----------------+--------------+-----------+\n",
      "|        Name|Num_Moons|Minerals|           Gravity|    Sunlight_Hours|       Temperature|    Rotation_Time|Water_Presence|Colonisable|\n",
      "+------------+---------+--------+------------------+------------------+------------------+-----------------+--------------+-----------+\n",
      "|Planet_18329|        5|      59| 1.981602859469247|5.8168191458771705|28.381006239674264|56.76091939405808|             0|          0|\n",
      "|Planet_28900|        8|     672|1.3881504830806715|14.715293728903166| 27.48564614824687| 51.0340563211323|             0|          0|\n",
      "|Planet_56161|        3|     764|2.5308267251520093|22.902523479273974| 63.39082702246432|42.99324764351807|             1|          0|\n",
      "|Planet_24869|        4|     881| 0.272197404132533|1.1764842767184982| 36.99844187739444|29.49224607367769|             1|          0|\n",
      "|Planet_70594|        7|    1003|1.7310599130799436| 21.48032382478311|23.266169650283757|20.65595846047114|             0|          0|\n",
      "+------------+---------+--------+------------------+------------------+------------------+-----------------+--------------+-----------+\n",
      "only showing top 5 rows\n",
      "\n"
     ]
    }
   ],
   "source": [
    "df_planets.show(5)"
   ]
  },
  {
   "cell_type": "code",
   "execution_count": 21,
   "metadata": {},
   "outputs": [
    {
     "name": "stdout",
     "output_type": "stream",
     "text": [
      "+------------+---------------+--------+------------------+-----------------------+------------------+-----------------+--------------+-----------+\n",
      "|         Nom|Nombre_de_Lunes|Mineraux|           Gravite|Heures_d_Ensoleillement|       Temperature|Temps_de_Rotation|Presence_d_Eau|Colonisable|\n",
      "+------------+---------------+--------+------------------+-----------------------+------------------+-----------------+--------------+-----------+\n",
      "|Planet_18329|              5|      59| 1.981602859469247|     5.8168191458771705|28.381006239674264|56.76091939405808|             0|          0|\n",
      "|Planet_28900|              8|     672|1.3881504830806715|     14.715293728903166| 27.48564614824687| 51.0340563211323|             0|          0|\n",
      "|Planet_56161|              3|     764|2.5308267251520093|     22.902523479273974| 63.39082702246432|42.99324764351807|             1|          0|\n",
      "|Planet_24869|              4|     881| 0.272197404132533|     1.1764842767184982| 36.99844187739444|29.49224607367769|             1|          0|\n",
      "|Planet_70594|              7|    1003|1.7310599130799436|      21.48032382478311|23.266169650283757|20.65595846047114|             0|          0|\n",
      "+------------+---------------+--------+------------------+-----------------------+------------------+-----------------+--------------+-----------+\n",
      "only showing top 5 rows\n",
      "\n"
     ]
    }
   ],
   "source": [
    "# Renommer les colonnes en français\n",
    "df_planets = df_planets.withColumnRenamed(\"Name\", \"Nom\") \\\n",
    "               .withColumnRenamed(\"Num_Moons\", \"Nombre_de_Lunes\") \\\n",
    "               .withColumnRenamed(\"Minerals\", \"Mineraux\") \\\n",
    "               .withColumnRenamed(\"Gravity\", \"Gravite\") \\\n",
    "               .withColumnRenamed(\"Sunlight_Hours\", \"Heures_d_Ensoleillement\") \\\n",
    "               .withColumnRenamed(\"Temperature\", \"Temperature\") \\\n",
    "               .withColumnRenamed(\"Rotation_Time\", \"Temps_de_Rotation\") \\\n",
    "               .withColumnRenamed(\"Water_Presence\", \"Presence_d_Eau\") \\\n",
    "               .withColumnRenamed(\"Colonisable\", \"Colonisable\")\n",
    "\n",
    "# Affichage du DataFrame avec les noms de colonnes en français\n",
    "df_planets.show(5)\n"
   ]
  },
  {
   "cell_type": "markdown",
   "metadata": {},
   "source": [
    "### Analyser le dataframe"
   ]
  },
  {
   "cell_type": "code",
   "execution_count": 22,
   "metadata": {},
   "outputs": [
    {
     "name": "stdout",
     "output_type": "stream",
     "text": [
      "root\n",
      " |-- Nom: string (nullable = true)\n",
      " |-- Nombre_de_Lunes: string (nullable = true)\n",
      " |-- Mineraux: string (nullable = true)\n",
      " |-- Gravite: string (nullable = true)\n",
      " |-- Heures_d_Ensoleillement: string (nullable = true)\n",
      " |-- Temperature: string (nullable = true)\n",
      " |-- Temps_de_Rotation: string (nullable = true)\n",
      " |-- Presence_d_Eau: string (nullable = true)\n",
      " |-- Colonisable: string (nullable = true)\n",
      "\n"
     ]
    }
   ],
   "source": [
    "# Vérifier les types après la conversion\n",
    "df_planets.printSchema()"
   ]
  },
  {
   "cell_type": "code",
   "execution_count": 25,
   "metadata": {},
   "outputs": [
    {
     "name": "stdout",
     "output_type": "stream",
     "text": [
      "+------------+---------------+--------+------------------+-----------------------+------------------+-----------------+--------------+-----------+\n",
      "|         Nom|Nombre_de_Lunes|Mineraux|           Gravite|Heures_d_Ensoleillement|       Temperature|Temps_de_Rotation|Presence_d_Eau|Colonisable|\n",
      "+------------+---------------+--------+------------------+-----------------------+------------------+-----------------+--------------+-----------+\n",
      "|Planet_18329|              5|      59| 1.981602859469247|     5.8168191458771705|28.381006239674264|56.76091939405808|             0|          0|\n",
      "|Planet_28900|              8|     672|1.3881504830806715|     14.715293728903166| 27.48564614824687| 51.0340563211323|             0|          0|\n",
      "|Planet_56161|              3|     764|2.5308267251520093|     22.902523479273974| 63.39082702246432|42.99324764351807|             1|          0|\n",
      "|Planet_24869|              4|     881| 0.272197404132533|     1.1764842767184982| 36.99844187739444|29.49224607367769|             1|          0|\n",
      "|Planet_70594|              7|    1003|1.7310599130799436|      21.48032382478311|23.266169650283757|20.65595846047114|             0|          0|\n",
      "+------------+---------------+--------+------------------+-----------------------+------------------+-----------------+--------------+-----------+\n",
      "only showing top 5 rows\n",
      "\n"
     ]
    }
   ],
   "source": [
    "# Conversion des types de données après renommage\n",
    "df_planets = df_planets \\\n",
    "    .withColumn(\"Nombre_de_Lunes\", df_planets[\"Nombre_de_Lunes\"].cast(IntegerType())) \\\n",
    "    .withColumn(\"Mineraux\", df_planets[\"Mineraux\"].cast(IntegerType())) \\\n",
    "    .withColumn(\"Gravite\", df_planets[\"Gravite\"].cast(DoubleType())) \\\n",
    "    .withColumn(\"Heures_d_Ensoleillement\", df_planets[\"Heures_d_Ensoleillement\"].cast(DoubleType())) \\\n",
    "    .withColumn(\"Temperature\", df_planets[\"Temperature\"].cast(DoubleType())) \\\n",
    "    .withColumn(\"Temps_de_Rotation\", df_planets[\"Temps_de_Rotation\"].cast(DoubleType())) \\\n",
    "    .withColumn(\"Presence_d_Eau\", df_planets[\"Presence_d_Eau\"].cast(IntegerType())) \\\n",
    "    .withColumn(\"Colonisable\", df_planets[\"Colonisable\"].cast(IntegerType()))\n",
    "\n",
    "# Affichage du DataFrame avec les types de données convertis\n",
    "df_planets.show(5)"
   ]
  },
  {
   "cell_type": "code",
   "execution_count": 28,
   "metadata": {},
   "outputs": [
    {
     "ename": "AttributeError",
     "evalue": "'DataFrame' object has no attribute 'isbull'",
     "output_type": "error",
     "traceback": [
      "\u001b[0;31m---------------------------------------------------------------------------\u001b[0m",
      "\u001b[0;31mAttributeError\u001b[0m                            Traceback (most recent call last)",
      "Cell \u001b[0;32mIn [28], line 1\u001b[0m\n\u001b[0;32m----> 1\u001b[0m \u001b[43mdf_planets\u001b[49m\u001b[38;5;241;43m.\u001b[39;49m\u001b[43misbull\u001b[49m()\u001b[38;5;241m.\u001b[39msum()\n",
      "File \u001b[0;32m/usr/local/spark/python/pyspark/sql/dataframe.py:1988\u001b[0m, in \u001b[0;36mDataFrame.__getattr__\u001b[0;34m(self, name)\u001b[0m\n\u001b[1;32m   1978\u001b[0m \u001b[38;5;124;03m\"\"\"Returns the :class:`Column` denoted by ``name``.\u001b[39;00m\n\u001b[1;32m   1979\u001b[0m \n\u001b[1;32m   1980\u001b[0m \u001b[38;5;124;03m.. versionadded:: 1.3.0\u001b[39;00m\n\u001b[0;32m   (...)\u001b[0m\n\u001b[1;32m   1985\u001b[0m \u001b[38;5;124;03m[Row(age=2), Row(age=5)]\u001b[39;00m\n\u001b[1;32m   1986\u001b[0m \u001b[38;5;124;03m\"\"\"\u001b[39;00m\n\u001b[1;32m   1987\u001b[0m \u001b[38;5;28;01mif\u001b[39;00m name \u001b[38;5;129;01mnot\u001b[39;00m \u001b[38;5;129;01min\u001b[39;00m \u001b[38;5;28mself\u001b[39m\u001b[38;5;241m.\u001b[39mcolumns:\n\u001b[0;32m-> 1988\u001b[0m     \u001b[38;5;28;01mraise\u001b[39;00m \u001b[38;5;167;01mAttributeError\u001b[39;00m(\n\u001b[1;32m   1989\u001b[0m         \u001b[38;5;124m\"\u001b[39m\u001b[38;5;124m'\u001b[39m\u001b[38;5;132;01m%s\u001b[39;00m\u001b[38;5;124m'\u001b[39m\u001b[38;5;124m object has no attribute \u001b[39m\u001b[38;5;124m'\u001b[39m\u001b[38;5;132;01m%s\u001b[39;00m\u001b[38;5;124m'\u001b[39m\u001b[38;5;124m\"\u001b[39m \u001b[38;5;241m%\u001b[39m (\u001b[38;5;28mself\u001b[39m\u001b[38;5;241m.\u001b[39m\u001b[38;5;18m__class__\u001b[39m\u001b[38;5;241m.\u001b[39m\u001b[38;5;18m__name__\u001b[39m, name)\n\u001b[1;32m   1990\u001b[0m     )\n\u001b[1;32m   1991\u001b[0m jc \u001b[38;5;241m=\u001b[39m \u001b[38;5;28mself\u001b[39m\u001b[38;5;241m.\u001b[39m_jdf\u001b[38;5;241m.\u001b[39mapply(name)\n\u001b[1;32m   1992\u001b[0m \u001b[38;5;28;01mreturn\u001b[39;00m Column(jc)\n",
      "\u001b[0;31mAttributeError\u001b[0m: 'DataFrame' object has no attribute 'isbull'"
     ]
    }
   ],
   "source": [
    "df_planets.isnull().sum()"
   ]
  }
 ],
 "metadata": {
  "kernelspec": {
   "display_name": "Python 3 (ipykernel)",
   "language": "python",
   "name": "python3"
  },
  "language_info": {
   "codemirror_mode": {
    "name": "ipython",
    "version": 3
   },
   "file_extension": ".py",
   "mimetype": "text/x-python",
   "name": "python",
   "nbconvert_exporter": "python",
   "pygments_lexer": "ipython3",
   "version": "3.10.6"
  }
 },
 "nbformat": 4,
 "nbformat_minor": 4
}
