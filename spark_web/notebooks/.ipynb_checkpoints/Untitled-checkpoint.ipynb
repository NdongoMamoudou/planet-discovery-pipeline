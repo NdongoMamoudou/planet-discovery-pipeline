{
 "cells": [
  {
   "cell_type": "code",
   "execution_count": null,
   "id": "401a877b-f3ce-4dff-bc12-a3f6e5a2011a",
   "metadata": {},
   "outputs": [],
   "source": [
    "from pyspark.sql import SparkSession\n",
    "\n",
    "# Créer la session Spark\n",
    "spark = SparkSession.builder \\\n",
    "    .appName(\"Jupyter-Spark-Connection\") \\\n",
    "    .master(\"spark://spark-master:7077\") \\\n",
    "    .getOrCreate()\n",
    "\n",
    "# Vérifier la version de Spark\n",
    "print(\"Spark Version:\", spark.version)\n"
   ]
  }
 ],
 "metadata": {
  "kernelspec": {
   "display_name": "Python 3 (ipykernel)",
   "language": "python",
   "name": "python3"
  },
  "language_info": {
   "codemirror_mode": {
    "name": "ipython",
    "version": 3
   },
   "file_extension": ".py",
   "mimetype": "text/x-python",
   "name": "python",
   "nbconvert_exporter": "python",
   "pygments_lexer": "ipython3",
   "version": "3.11.6"
  }
 },
 "nbformat": 4,
 "nbformat_minor": 5
}
