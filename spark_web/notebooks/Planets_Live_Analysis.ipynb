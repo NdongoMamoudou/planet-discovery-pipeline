{
 "cells": [
  {
   "cell_type": "code",
   "execution_count": null,
   "metadata": {},
   "outputs": [],
   "source": [
    "from pyspark.sql import SparkSession\n",
    "from pyspark.sql.functions import col, from_json, to_date, when\n",
    "from pyspark.sql.types import StructType, StructField, StringType, DoubleType, IntegerType\n",
    "\n",
    "import shutil\n",
    "import os"
   ]
  },
  {
   "cell_type": "code",
   "execution_count": null,
   "metadata": {},
   "outputs": [],
   "source": [
    "# Supprimer le répertoire de checkpoint (historique)\n",
    "checkpoint_dir = \"/tmp/checkpoints/planets\"\n",
    "if os.path.exists(checkpoint_dir):\n",
    "    shutil.rmtree(checkpoint_dir)"
   ]
  },
  {
   "cell_type": "code",
   "execution_count": null,
   "metadata": {},
   "outputs": [],
   "source": [
    "# Initialisation de la session Spark\n",
    "spark = SparkSession.builder \\\n",
    "    .appName(\"AppPlanetDiscovery\") \\\n",
    "    .config(\"spark.sql.streaming.checkpointLocation\", \"/tmp/checkpoints\") \\\n",
    "    .config(\"spark.jars.packages\", \"org.apache.spark:spark-sql-kafka-0-10_2.12:3.0.0\") \\\n",
    "    .getOrCreate()"
   ]
  },
  {
   "cell_type": "code",
   "execution_count": null,
   "metadata": {},
   "outputs": [],
   "source": [
    "# Définir le schéma\n",
    "schema = StructType([\n",
    "    StructField(\"id\", StringType(), True),\n",
    "    StructField(\"nom\", StringType(), True),\n",
    "    StructField(\"decouvreur\", StringType(), True),\n",
    "    StructField(\"date_de_decouverte\", StringType(), True), \n",
    "    StructField(\"masse\", StringType(), True),                \n",
    "    StructField(\"rayon\", StringType(), True),                \n",
    "    StructField(\"distance\", StringType(), True),            \n",
    "    StructField(\"type\", StringType(), True),\n",
    "    StructField(\"statut\", StringType(), True),\n",
    "    StructField(\"atmosphere\", StringType(), True),\n",
    "    StructField(\"temperature_moyenne\", StringType(), True),\n",
    "    StructField(\"periode_orbitale\", StringType(), True),    \n",
    "    StructField(\"nombre_de_satellites\", StringType(), True),\n",
    "    StructField(\"presence_deau\", StringType(), True)       \n",
    "])\n"
   ]
  },
  {
   "cell_type": "code",
   "execution_count": null,
   "metadata": {},
   "outputs": [],
   "source": [
    "# Lecture du stream Kafka\n",
    "kafka_df = spark.readStream \\\n",
    "    .format(\"kafka\") \\\n",
    "    .option(\"kafka.bootstrap.servers\", \"kafka:9092\") \\\n",
    "    .option(\"subscribe\", \"planet-discoveries\") \\\n",
    "    .load()"
   ]
  },
  {
   "cell_type": "code",
   "execution_count": null,
   "metadata": {},
   "outputs": [],
   "source": [
    "# Extraction du message JSON\n",
    "messages_df = kafka_df.selectExpr(\"CAST(value AS STRING)\")\n",
    "json_df = messages_df.select(from_json(col(\"value\"), schema).alias(\"data\")).select(\"data.*\")\n",
    "\n",
    "# Conversion des colonnes aux bons types\n",
    "final_df = json_df \\\n",
    "    .withColumn(\"date_de_decouverte\", to_date(col(\"date_de_decouverte\"), \"yyyy-MM-dd\")) \\\n",
    "    .withColumn(\"masse\", col(\"masse\").cast(DoubleType())) \\\n",
    "    .withColumn(\"rayon\", col(\"rayon\").cast(DoubleType())) \\\n",
    "    .withColumn(\"distance\", col(\"distance\").cast(DoubleType())) \\\n",
    "    .withColumn(\"temperature_moyenne\", col(\"temperature_moyenne\").cast(DoubleType())) \\\n",
    "    .withColumn(\"periode_orbitale\", col(\"periode_orbitale\").cast(DoubleType())) \\\n",
    "    .withColumn(\"nombre_de_satellites\", col(\"nombre_de_satellites\").cast(IntegerType())) \\\n",
    "    .withColumn(\"presence_deau\", when(col(\"presence_deau\") == \"oui\", True)\n",
    "                                    .when(col(\"presence_deau\") == \"non\", False)\n",
    "                                    .otherwise(None))\n",
    "\n",
    "\n"
   ]
  },
  {
   "cell_type": "code",
   "execution_count": null,
   "metadata": {},
   "outputs": [],
   "source": [
    "# Fonction pour traiter chaque batch\n",
    "def process_batch(batch_df, batch_id):\n",
    "    print(f\"\\n=== Batch {batch_id} ===\")\n",
    "    batch_df.show(truncate=False)\n",
    "\n",
    "    # Enregistrement en CSV (facultatif pour les graphes après coup)\n",
    "    csv_path = f\"planet_discoveries_batch_{batch_id}.csv\"\n",
    "    batch_pd = batch_df.toPandas()\n",
    "    batch_pd.to_csv(csv_path, index=False)\n",
    "    print(f\"Batch {batch_id} sauvegardé dans {csv_path}\")\n",
    "\n"
   ]
  },
  {
   "cell_type": "code",
   "execution_count": null,
   "metadata": {},
   "outputs": [],
   "source": [
    "# Stream avec foreachBatch (affichage et stockage local)\n",
    "query = final_df.writeStream \\\n",
    "    .outputMode(\"append\") \\\n",
    "    .foreachBatch(process_batch) \\\n",
    "    .option(\"checkpointLocation\", checkpoint_dir) \\\n",
    "    .start()\n",
    "\n",
    "query.awaitTermination()"
   ]
  },
  {
   "cell_type": "code",
   "execution_count": 7,
   "metadata": {},
   "outputs": [
    {
     "name": "stdout",
     "output_type": "stream",
     "text": [
      "+---+---+----------+------------------+-----+-----+--------+----+------+----------+-------------------+----------------+--------------------+-------------+\n",
      "| id|nom|decouvreur|date_de_decouverte|masse|rayon|distance|type|statut|atmosphere|temperature_moyenne|periode_orbitale|nombre_de_satellites|presence_deau|\n",
      "+---+---+----------+------------------+-----+-----+--------+----+------+----------+-------------------+----------------+--------------------+-------------+\n",
      "+---+---+----------+------------------+-----+-----+--------+----+------+----------+-------------------+----------------+--------------------+-------------+\n",
      "\n"
     ]
    }
   ],
   "source": [
    "# Afficher les données de la table en mémoire\n",
    "spark.sql(\"SELECT * FROM planets\").show()\n"
   ]
  }
 ],
 "metadata": {
  "kernelspec": {
   "display_name": "Python 3 (ipykernel)",
   "language": "python",
   "name": "python3"
  },
  "language_info": {
   "codemirror_mode": {
    "name": "ipython",
    "version": 3
   },
   "file_extension": ".py",
   "mimetype": "text/x-python",
   "name": "python",
   "nbconvert_exporter": "python",
   "pygments_lexer": "ipython3",
   "version": "3.11.6"
  }
 },
 "nbformat": 4,
 "nbformat_minor": 4
}
