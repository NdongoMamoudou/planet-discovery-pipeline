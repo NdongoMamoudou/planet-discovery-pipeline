{
 "cells": [
  {
   "cell_type": "markdown",
   "metadata": {},
   "source": [
    "### importer les bibliothe "
   ]
  },
  {
   "cell_type": "code",
   "execution_count": 51,
   "metadata": {},
   "outputs": [],
   "source": [
    "from pyspark.sql import SparkSession\n",
    "import pandas as pd \n",
    "import numpy as np \n",
    "import seaborn as sns \n",
    "import matplotlib.pyplot as plt\n",
    "from pyspark.sql.types import IntegerType, DoubleType, StringType\n",
    "from pyspark.sql.functions import col, avg, count, max, min , sum\n",
    "from sklearn.model_selection import train_test_split\n",
    "from sklearn.preprocessing import StandardScaler\n",
    "from sklearn.linear_model import LinearRegression"
   ]
  },
  {
   "cell_type": "markdown",
   "metadata": {},
   "source": [
    "### Afficher le dataframe"
   ]
  },
  {
   "cell_type": "code",
   "execution_count": 2,
   "metadata": {},
   "outputs": [],
   "source": [
    "#creer un session de spark\n",
    "spark = SparkSession.builder.appName(\"Planéte\").getOrCreate()"
   ]
  },
  {
   "cell_type": "code",
   "execution_count": 3,
   "metadata": {},
   "outputs": [],
   "source": [
    "# Lecture du fichier CSV depuis HDFS\n",
    "df_planets = spark.read.option(\"header\", True).csv(\"hdfs://namenode:9000/user/hive/planets/planets_dataset.csv\")"
   ]
  },
  {
   "cell_type": "code",
   "execution_count": 4,
   "metadata": {},
   "outputs": [
    {
     "name": "stdout",
     "output_type": "stream",
     "text": [
      "+------------+---------+--------+------------------+------------------+------------------+-----------------+--------------+-----------+\n",
      "|        Name|Num_Moons|Minerals|           Gravity|    Sunlight_Hours|       Temperature|    Rotation_Time|Water_Presence|Colonisable|\n",
      "+------------+---------+--------+------------------+------------------+------------------+-----------------+--------------+-----------+\n",
      "|Planet_18329|        5|      59| 1.981602859469247|5.8168191458771705|28.381006239674264|56.76091939405808|             0|          0|\n",
      "|Planet_28900|        8|     672|1.3881504830806715|14.715293728903166| 27.48564614824687| 51.0340563211323|             0|          0|\n",
      "|Planet_56161|        3|     764|2.5308267251520093|22.902523479273974| 63.39082702246432|42.99324764351807|             1|          0|\n",
      "|Planet_24869|        4|     881| 0.272197404132533|1.1764842767184982| 36.99844187739444|29.49224607367769|             1|          0|\n",
      "|Planet_70594|        7|    1003|1.7310599130799436| 21.48032382478311|23.266169650283757|20.65595846047114|             0|          0|\n",
      "+------------+---------+--------+------------------+------------------+------------------+-----------------+--------------+-----------+\n",
      "only showing top 5 rows\n",
      "\n"
     ]
    }
   ],
   "source": [
    "df_planets.show(5)"
   ]
  },
  {
   "cell_type": "code",
   "execution_count": 5,
   "metadata": {},
   "outputs": [
    {
     "name": "stdout",
     "output_type": "stream",
     "text": [
      "+------------+---------------+--------+------------------+-----------------------+------------------+-----------------+--------------+-----------+\n",
      "|         Nom|Nombre_de_Lunes|Mineraux|           Gravite|Heures_d_Ensoleillement|       Temperature|Temps_de_Rotation|Presence_d_Eau|Colonisable|\n",
      "+------------+---------------+--------+------------------+-----------------------+------------------+-----------------+--------------+-----------+\n",
      "|Planet_18329|              5|      59| 1.981602859469247|     5.8168191458771705|28.381006239674264|56.76091939405808|             0|          0|\n",
      "|Planet_28900|              8|     672|1.3881504830806715|     14.715293728903166| 27.48564614824687| 51.0340563211323|             0|          0|\n",
      "|Planet_56161|              3|     764|2.5308267251520093|     22.902523479273974| 63.39082702246432|42.99324764351807|             1|          0|\n",
      "|Planet_24869|              4|     881| 0.272197404132533|     1.1764842767184982| 36.99844187739444|29.49224607367769|             1|          0|\n",
      "|Planet_70594|              7|    1003|1.7310599130799436|      21.48032382478311|23.266169650283757|20.65595846047114|             0|          0|\n",
      "+------------+---------------+--------+------------------+-----------------------+------------------+-----------------+--------------+-----------+\n",
      "only showing top 5 rows\n",
      "\n"
     ]
    }
   ],
   "source": [
    "# Renommer les colonnes en français\n",
    "df_planets = df_planets.withColumnRenamed(\"Name\", \"Nom\") \\\n",
    "               .withColumnRenamed(\"Num_Moons\", \"Nombre_de_Lunes\") \\\n",
    "               .withColumnRenamed(\"Minerals\", \"Mineraux\") \\\n",
    "               .withColumnRenamed(\"Gravity\", \"Gravite\") \\\n",
    "               .withColumnRenamed(\"Sunlight_Hours\", \"Heures_d_Ensoleillement\") \\\n",
    "               .withColumnRenamed(\"Temperature\", \"Temperature\") \\\n",
    "               .withColumnRenamed(\"Rotation_Time\", \"Temps_de_Rotation\") \\\n",
    "               .withColumnRenamed(\"Water_Presence\", \"Presence_d_Eau\") \\\n",
    "               .withColumnRenamed(\"Colonisable\", \"Colonisable\")\n",
    "\n",
    "# Affichage du DataFrame avec les noms de colonnes en français\n",
    "df_planets.show(5)\n"
   ]
  },
  {
   "cell_type": "markdown",
   "metadata": {},
   "source": [
    "### Analyser le dataframe"
   ]
  },
  {
   "cell_type": "code",
   "execution_count": 6,
   "metadata": {},
   "outputs": [
    {
     "name": "stdout",
     "output_type": "stream",
     "text": [
      "root\n",
      " |-- Nom: string (nullable = true)\n",
      " |-- Nombre_de_Lunes: string (nullable = true)\n",
      " |-- Mineraux: string (nullable = true)\n",
      " |-- Gravite: string (nullable = true)\n",
      " |-- Heures_d_Ensoleillement: string (nullable = true)\n",
      " |-- Temperature: string (nullable = true)\n",
      " |-- Temps_de_Rotation: string (nullable = true)\n",
      " |-- Presence_d_Eau: string (nullable = true)\n",
      " |-- Colonisable: string (nullable = true)\n",
      "\n"
     ]
    }
   ],
   "source": [
    "# Vérifier les types après la conversion\n",
    "df_planets.printSchema()"
   ]
  },
  {
   "cell_type": "code",
   "execution_count": 7,
   "metadata": {},
   "outputs": [
    {
     "name": "stdout",
     "output_type": "stream",
     "text": [
      "+------------+---------------+--------+------------------+-----------------------+------------------+-----------------+--------------+-----------+\n",
      "|         Nom|Nombre_de_Lunes|Mineraux|           Gravite|Heures_d_Ensoleillement|       Temperature|Temps_de_Rotation|Presence_d_Eau|Colonisable|\n",
      "+------------+---------------+--------+------------------+-----------------------+------------------+-----------------+--------------+-----------+\n",
      "|Planet_18329|              5|      59| 1.981602859469247|     5.8168191458771705|28.381006239674264|56.76091939405808|             0|          0|\n",
      "|Planet_28900|              8|     672|1.3881504830806715|     14.715293728903166| 27.48564614824687| 51.0340563211323|             0|          0|\n",
      "|Planet_56161|              3|     764|2.5308267251520093|     22.902523479273974| 63.39082702246432|42.99324764351807|             1|          0|\n",
      "|Planet_24869|              4|     881| 0.272197404132533|     1.1764842767184982| 36.99844187739444|29.49224607367769|             1|          0|\n",
      "|Planet_70594|              7|    1003|1.7310599130799436|      21.48032382478311|23.266169650283757|20.65595846047114|             0|          0|\n",
      "+------------+---------------+--------+------------------+-----------------------+------------------+-----------------+--------------+-----------+\n",
      "only showing top 5 rows\n",
      "\n"
     ]
    }
   ],
   "source": [
    "# Conversion des types de données après renommage\n",
    "df_planets = df_planets \\\n",
    "    .withColumn(\"Nombre_de_Lunes\", df_planets[\"Nombre_de_Lunes\"].cast(IntegerType())) \\\n",
    "    .withColumn(\"Mineraux\", df_planets[\"Mineraux\"].cast(IntegerType())) \\\n",
    "    .withColumn(\"Gravite\", df_planets[\"Gravite\"].cast(DoubleType())) \\\n",
    "    .withColumn(\"Heures_d_Ensoleillement\", df_planets[\"Heures_d_Ensoleillement\"].cast(DoubleType())) \\\n",
    "    .withColumn(\"Temperature\", df_planets[\"Temperature\"].cast(DoubleType())) \\\n",
    "    .withColumn(\"Temps_de_Rotation\", df_planets[\"Temps_de_Rotation\"].cast(DoubleType())) \\\n",
    "    .withColumn(\"Presence_d_Eau\", df_planets[\"Presence_d_Eau\"].cast(IntegerType())) \\\n",
    "    .withColumn(\"Colonisable\", df_planets[\"Colonisable\"].cast(IntegerType()))\n",
    "\n",
    "# Affichage du DataFrame avec les types de données convertis\n",
    "df_planets.show(5)"
   ]
  },
  {
   "cell_type": "code",
   "execution_count": 8,
   "metadata": {},
   "outputs": [
    {
     "name": "stdout",
     "output_type": "stream",
     "text": [
      "+---+---------------+--------+-------+-----------------------+-----------+-----------------+--------------+-----------+\n",
      "|Nom|Nombre_de_Lunes|Mineraux|Gravite|Heures_d_Ensoleillement|Temperature|Temps_de_Rotation|Presence_d_Eau|Colonisable|\n",
      "+---+---------------+--------+-------+-----------------------+-----------+-----------------+--------------+-----------+\n",
      "|  0|              0|       0|      0|                      0|          0|                0|             0|          0|\n",
      "+---+---------------+--------+-------+-----------------------+-----------+-----------------+--------------+-----------+\n",
      "\n"
     ]
    }
   ],
   "source": [
    "# Calculer le nombre de valeurs nulles par colonne\n",
    "df_planets.select([sum(col(c).isNull().cast(\"int\")).alias(c) for c in df_planets.columns]).show()\n"
   ]
  },
  {
   "cell_type": "code",
   "execution_count": 9,
   "metadata": {},
   "outputs": [],
   "source": [
    "df_planets = df_planets.dropna()"
   ]
  },
  {
   "cell_type": "code",
   "execution_count": 38,
   "metadata": {},
   "outputs": [
    {
     "data": {
      "text/plain": [
       "[('Nom', 'string'),\n",
       " ('Nombre_de_Lunes', 'int'),\n",
       " ('Mineraux', 'int'),\n",
       " ('Gravite', 'double'),\n",
       " ('Heures_d_Ensoleillement', 'double'),\n",
       " ('Temperature', 'double'),\n",
       " ('Temps_de_Rotation', 'double'),\n",
       " ('Presence_d_Eau', 'int'),\n",
       " ('Colonisable', 'int')]"
      ]
     },
     "execution_count": 38,
     "metadata": {},
     "output_type": "execute_result"
    }
   ],
   "source": [
    "df_planets.dtypes"
   ]
  },
  {
   "cell_type": "markdown",
   "metadata": {},
   "source": [
    "### Préparation des données"
   ]
  },
  {
   "cell_type": "code",
   "execution_count": 10,
   "metadata": {},
   "outputs": [
    {
     "data": {
      "text/html": [
       "<div>\n",
       "<style scoped>\n",
       "    .dataframe tbody tr th:only-of-type {\n",
       "        vertical-align: middle;\n",
       "    }\n",
       "\n",
       "    .dataframe tbody tr th {\n",
       "        vertical-align: top;\n",
       "    }\n",
       "\n",
       "    .dataframe thead th {\n",
       "        text-align: right;\n",
       "    }\n",
       "</style>\n",
       "<table border=\"1\" class=\"dataframe\">\n",
       "  <thead>\n",
       "    <tr style=\"text-align: right;\">\n",
       "      <th></th>\n",
       "      <th>Nom</th>\n",
       "      <th>Nombre_de_Lunes</th>\n",
       "      <th>Mineraux</th>\n",
       "      <th>Gravite</th>\n",
       "      <th>Heures_d_Ensoleillement</th>\n",
       "      <th>Temperature</th>\n",
       "      <th>Temps_de_Rotation</th>\n",
       "      <th>Presence_d_Eau</th>\n",
       "      <th>Colonisable</th>\n",
       "    </tr>\n",
       "  </thead>\n",
       "  <tbody>\n",
       "    <tr>\n",
       "      <th>0</th>\n",
       "      <td>Planet_18329</td>\n",
       "      <td>5</td>\n",
       "      <td>59</td>\n",
       "      <td>1.981603</td>\n",
       "      <td>5.816819</td>\n",
       "      <td>28.381006</td>\n",
       "      <td>56.760919</td>\n",
       "      <td>0</td>\n",
       "      <td>0</td>\n",
       "    </tr>\n",
       "    <tr>\n",
       "      <th>1</th>\n",
       "      <td>Planet_28900</td>\n",
       "      <td>8</td>\n",
       "      <td>672</td>\n",
       "      <td>1.388150</td>\n",
       "      <td>14.715294</td>\n",
       "      <td>27.485646</td>\n",
       "      <td>51.034056</td>\n",
       "      <td>0</td>\n",
       "      <td>0</td>\n",
       "    </tr>\n",
       "    <tr>\n",
       "      <th>2</th>\n",
       "      <td>Planet_56161</td>\n",
       "      <td>3</td>\n",
       "      <td>764</td>\n",
       "      <td>2.530827</td>\n",
       "      <td>22.902523</td>\n",
       "      <td>63.390827</td>\n",
       "      <td>42.993248</td>\n",
       "      <td>1</td>\n",
       "      <td>0</td>\n",
       "    </tr>\n",
       "    <tr>\n",
       "      <th>3</th>\n",
       "      <td>Planet_24869</td>\n",
       "      <td>4</td>\n",
       "      <td>881</td>\n",
       "      <td>0.272197</td>\n",
       "      <td>1.176484</td>\n",
       "      <td>36.998442</td>\n",
       "      <td>29.492246</td>\n",
       "      <td>1</td>\n",
       "      <td>0</td>\n",
       "    </tr>\n",
       "    <tr>\n",
       "      <th>4</th>\n",
       "      <td>Planet_70594</td>\n",
       "      <td>7</td>\n",
       "      <td>1003</td>\n",
       "      <td>1.731060</td>\n",
       "      <td>21.480324</td>\n",
       "      <td>23.266170</td>\n",
       "      <td>20.655958</td>\n",
       "      <td>0</td>\n",
       "      <td>0</td>\n",
       "    </tr>\n",
       "  </tbody>\n",
       "</table>\n",
       "</div>"
      ],
      "text/plain": [
       "            Nom  Nombre_de_Lunes  Mineraux   Gravite  Heures_d_Ensoleillement  \\\n",
       "0  Planet_18329                5        59  1.981603                 5.816819   \n",
       "1  Planet_28900                8       672  1.388150                14.715294   \n",
       "2  Planet_56161                3       764  2.530827                22.902523   \n",
       "3  Planet_24869                4       881  0.272197                 1.176484   \n",
       "4  Planet_70594                7      1003  1.731060                21.480324   \n",
       "\n",
       "   Temperature  Temps_de_Rotation  Presence_d_Eau  Colonisable  \n",
       "0    28.381006          56.760919               0            0  \n",
       "1    27.485646          51.034056               0            0  \n",
       "2    63.390827          42.993248               1            0  \n",
       "3    36.998442          29.492246               1            0  \n",
       "4    23.266170          20.655958               0            0  "
      ]
     },
     "execution_count": 10,
     "metadata": {},
     "output_type": "execute_result"
    }
   ],
   "source": [
    "## on converit le dataframe en pandas\n",
    "\n",
    "df = df_planets.toPandas()\n",
    "\n",
    "df.head()"
   ]
  },
  {
   "cell_type": "markdown",
   "metadata": {},
   "source": [
    "### Diviser les données "
   ]
  },
  {
   "cell_type": "code",
   "execution_count": 67,
   "metadata": {},
   "outputs": [],
   "source": [
    "## Divise le dataframe\n",
    "y  = df[\"Colonisable\"]\n",
    "X  = df.drop([\"Colonisable\", \"Nom\"] , axis = 1)\n"
   ]
  },
  {
   "cell_type": "code",
   "execution_count": 44,
   "metadata": {},
   "outputs": [],
   "source": [
    "# Division des données en ensembles d'entraînement et de test\n",
    "X_train, X_test, y_train, y_test = train_test_split(X, y, test_size=0.2, random_state=42)\n",
    "\n",
    "# Ajouter une dimension pour en faire un tableau 2D\n",
    "y_train = y_train.values.reshape(-1, 1)\n",
    "y_test = y_test.values.reshape(-1, 1)\n"
   ]
  },
  {
   "cell_type": "markdown",
   "metadata": {},
   "source": [
    "### normaliser les donées d'entrée"
   ]
  },
  {
   "cell_type": "code",
   "execution_count": 58,
   "metadata": {},
   "outputs": [],
   "source": [
    "\n",
    "# Normalisation des caractéristiques\n",
    "scaler = StandardScaler().fit(X_train)\n",
    "X_train_scaled = scaler.transform(X_train)\n",
    "X_test_scaled = scaler.transform(X_test)\n"
   ]
  },
  {
   "cell_type": "markdown",
   "metadata": {},
   "source": [
    "### Création de mon modèle"
   ]
  },
  {
   "cell_type": "code",
   "execution_count": 59,
   "metadata": {},
   "outputs": [],
   "source": [
    "model = LinearRegression()"
   ]
  },
  {
   "cell_type": "markdown",
   "metadata": {},
   "source": [
    "### Entraînement du modèle"
   ]
  },
  {
   "cell_type": "code",
   "execution_count": 68,
   "metadata": {},
   "outputs": [
    {
     "data": {
      "text/html": [
       "<style>#sk-container-id-3 {color: black;background-color: white;}#sk-container-id-3 pre{padding: 0;}#sk-container-id-3 div.sk-toggleable {background-color: white;}#sk-container-id-3 label.sk-toggleable__label {cursor: pointer;display: block;width: 100%;margin-bottom: 0;padding: 0.3em;box-sizing: border-box;text-align: center;}#sk-container-id-3 label.sk-toggleable__label-arrow:before {content: \"▸\";float: left;margin-right: 0.25em;color: #696969;}#sk-container-id-3 label.sk-toggleable__label-arrow:hover:before {color: black;}#sk-container-id-3 div.sk-estimator:hover label.sk-toggleable__label-arrow:before {color: black;}#sk-container-id-3 div.sk-toggleable__content {max-height: 0;max-width: 0;overflow: hidden;text-align: left;background-color: #f0f8ff;}#sk-container-id-3 div.sk-toggleable__content pre {margin: 0.2em;color: black;border-radius: 0.25em;background-color: #f0f8ff;}#sk-container-id-3 input.sk-toggleable__control:checked~div.sk-toggleable__content {max-height: 200px;max-width: 100%;overflow: auto;}#sk-container-id-3 input.sk-toggleable__control:checked~label.sk-toggleable__label-arrow:before {content: \"▾\";}#sk-container-id-3 div.sk-estimator input.sk-toggleable__control:checked~label.sk-toggleable__label {background-color: #d4ebff;}#sk-container-id-3 div.sk-label input.sk-toggleable__control:checked~label.sk-toggleable__label {background-color: #d4ebff;}#sk-container-id-3 input.sk-hidden--visually {border: 0;clip: rect(1px 1px 1px 1px);clip: rect(1px, 1px, 1px, 1px);height: 1px;margin: -1px;overflow: hidden;padding: 0;position: absolute;width: 1px;}#sk-container-id-3 div.sk-estimator {font-family: monospace;background-color: #f0f8ff;border: 1px dotted black;border-radius: 0.25em;box-sizing: border-box;margin-bottom: 0.5em;}#sk-container-id-3 div.sk-estimator:hover {background-color: #d4ebff;}#sk-container-id-3 div.sk-parallel-item::after {content: \"\";width: 100%;border-bottom: 1px solid gray;flex-grow: 1;}#sk-container-id-3 div.sk-label:hover label.sk-toggleable__label {background-color: #d4ebff;}#sk-container-id-3 div.sk-serial::before {content: \"\";position: absolute;border-left: 1px solid gray;box-sizing: border-box;top: 0;bottom: 0;left: 50%;z-index: 0;}#sk-container-id-3 div.sk-serial {display: flex;flex-direction: column;align-items: center;background-color: white;padding-right: 0.2em;padding-left: 0.2em;position: relative;}#sk-container-id-3 div.sk-item {position: relative;z-index: 1;}#sk-container-id-3 div.sk-parallel {display: flex;align-items: stretch;justify-content: center;background-color: white;position: relative;}#sk-container-id-3 div.sk-item::before, #sk-container-id-3 div.sk-parallel-item::before {content: \"\";position: absolute;border-left: 1px solid gray;box-sizing: border-box;top: 0;bottom: 0;left: 50%;z-index: -1;}#sk-container-id-3 div.sk-parallel-item {display: flex;flex-direction: column;z-index: 1;position: relative;background-color: white;}#sk-container-id-3 div.sk-parallel-item:first-child::after {align-self: flex-end;width: 50%;}#sk-container-id-3 div.sk-parallel-item:last-child::after {align-self: flex-start;width: 50%;}#sk-container-id-3 div.sk-parallel-item:only-child::after {width: 0;}#sk-container-id-3 div.sk-dashed-wrapped {border: 1px dashed gray;margin: 0 0.4em 0.5em 0.4em;box-sizing: border-box;padding-bottom: 0.4em;background-color: white;}#sk-container-id-3 div.sk-label label {font-family: monospace;font-weight: bold;display: inline-block;line-height: 1.2em;}#sk-container-id-3 div.sk-label-container {text-align: center;}#sk-container-id-3 div.sk-container {/* jupyter's `normalize.less` sets `[hidden] { display: none; }` but bootstrap.min.css set `[hidden] { display: none !important; }` so we also need the `!important` here to be able to override the default hidden behavior on the sphinx rendered scikit-learn.org. See: https://github.com/scikit-learn/scikit-learn/issues/21755 */display: inline-block !important;position: relative;}#sk-container-id-3 div.sk-text-repr-fallback {display: none;}</style><div id=\"sk-container-id-3\" class=\"sk-top-container\"><div class=\"sk-text-repr-fallback\"><pre>LinearRegression()</pre><b>In a Jupyter environment, please rerun this cell to show the HTML representation or trust the notebook. <br />On GitHub, the HTML representation is unable to render, please try loading this page with nbviewer.org.</b></div><div class=\"sk-container\" hidden><div class=\"sk-item\"><div class=\"sk-estimator sk-toggleable\"><input class=\"sk-toggleable__control sk-hidden--visually\" id=\"sk-estimator-id-3\" type=\"checkbox\" checked><label for=\"sk-estimator-id-3\" class=\"sk-toggleable__label sk-toggleable__label-arrow\">LinearRegression</label><div class=\"sk-toggleable__content\"><pre>LinearRegression()</pre></div></div></div></div></div>"
      ],
      "text/plain": [
       "LinearRegression()"
      ]
     },
     "execution_count": 68,
     "metadata": {},
     "output_type": "execute_result"
    }
   ],
   "source": [
    "model.fit(X_train_scaled, y_train)"
   ]
  },
  {
   "cell_type": "code",
   "execution_count": 48,
   "metadata": {},
   "outputs": [],
   "source": [
    "### Prédiction de mon modèle"
   ]
  },
  {
   "cell_type": "code",
   "execution_count": 69,
   "metadata": {},
   "outputs": [
    {
     "data": {
      "text/plain": [
       "array([[-0.00015442],\n",
       "       [ 0.10609668],\n",
       "       [ 0.11180792],\n",
       "       ...,\n",
       "       [-0.01346072],\n",
       "       [ 0.09448204],\n",
       "       [ 0.00102208]])"
      ]
     },
     "execution_count": 69,
     "metadata": {},
     "output_type": "execute_result"
    }
   ],
   "source": [
    "y_pred = model.predict(X_test_scaled)\n",
    "y_pred"
   ]
  },
  {
   "cell_type": "code",
   "execution_count": 70,
   "metadata": {},
   "outputs": [
    {
     "data": {
      "text/plain": [
       "1.0"
      ]
     },
     "execution_count": 70,
     "metadata": {},
     "output_type": "execute_result"
    }
   ],
   "source": [
    "R2 = model.score(X_test_scaled, y_pred)\n",
    "R2"
   ]
  },
  {
   "cell_type": "code",
   "execution_count": 71,
   "metadata": {},
   "outputs": [
    {
     "name": "stderr",
     "output_type": "stream",
     "text": [
      "No artists with labels found to put in legend.  Note that artists whose label start with an underscore are ignored when legend() is called with no argument.\n"
     ]
    },
    {
     "data": {
      "image/png": "[encoded data removed]",
      "text/plain": [
       "<Figure size 1000x700 with 1 Axes>"
      ]
     },
     "metadata": {},
     "output_type": "display_data"
    }
   ],
   "source": [
    "# Visualisation des résultats\n",
    "plt.figure(figsize=(10, 7))\n",
    "plt.scatter(y_test, y_pred, color='blue', alpha=0.5)\n",
    "plt.xlabel('Y Test')\n",
    "plt.ylabel('Predicted Y')\n",
    "plt.title('Y Test vs Predicted Y')\n",
    "\n",
    "plt.legend()\n",
    "\n",
    "plt.show()\n"
   ]
  }
 ],
 "metadata": {
  "kernelspec": {
   "display_name": "Python 3 (ipykernel)",
   "language": "python",
   "name": "python3"
  },
  "language_info": {
   "codemirror_mode": {
    "name": "ipython",
    "version": 3
   },
   "file_extension": ".py",
   "mimetype": "text/x-python",
   "name": "python",
   "nbconvert_exporter": "python",
   "pygments_lexer": "ipython3",
   "version": "3.10.6"
  }
 },
 "nbformat": 4,
 "nbformat_minor": 4
}
