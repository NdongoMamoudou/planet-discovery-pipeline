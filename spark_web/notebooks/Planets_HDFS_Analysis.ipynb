{
 "cells": [
  {
   "cell_type": "markdown",
   "metadata": {},
   "source": [
    "### importer les bibliothe "
   ]
  },
  {
   "cell_type": "code",
   "execution_count": 1,
   "metadata": {},
   "outputs": [],
   "source": [
    "from pyspark.sql import SparkSession\n",
    "import pandas as pd \n",
    "import numpy as np \n",
    "import seaborn as sns \n",
    "import matplotlib.pyplot as plt\n",
    "from pyspark.sql.types import IntegerType, DoubleType, StringType\n",
    "from pyspark.sql.functions import col, avg, count, max, min , sum\n",
    "from sklearn.model_selection import train_test_split\n",
    "from sklearn.preprocessing import StandardScaler\n"
   ]
  },
  {
   "cell_type": "markdown",
   "metadata": {},
   "source": [
    "### Afficher le dataframe"
   ]
  },
  {
   "cell_type": "code",
   "execution_count": 2,
   "metadata": {},
   "outputs": [],
   "source": [
    "#creer un session de spark\n",
    "spark = SparkSession.builder.appName(\"Planéte\").getOrCreate()"
   ]
  },
  {
   "cell_type": "code",
   "execution_count": 3,
   "metadata": {},
   "outputs": [],
   "source": [
    "# Lecture du fichier CSV depuis HDFS\n",
    "df_planets = spark.read.option(\"header\", True).csv(\"hdfs://namenode:9000/user/hive/planets/planets_dataset.csv\")"
   ]
  },
  {
   "cell_type": "code",
   "execution_count": 4,
   "metadata": {},
   "outputs": [
    {
     "name": "stdout",
     "output_type": "stream",
     "text": [
      "+------------+---------+--------+------------------+------------------+------------------+-----------------+--------------+-----------+\n",
      "|        Name|Num_Moons|Minerals|           Gravity|    Sunlight_Hours|       Temperature|    Rotation_Time|Water_Presence|Colonisable|\n",
      "+------------+---------+--------+------------------+------------------+------------------+-----------------+--------------+-----------+\n",
      "|Planet_18329|        5|      59| 1.981602859469247|5.8168191458771705|28.381006239674264|56.76091939405808|             0|          0|\n",
      "|Planet_28900|        8|     672|1.3881504830806715|14.715293728903166| 27.48564614824687| 51.0340563211323|             0|          0|\n",
      "|Planet_56161|        3|     764|2.5308267251520093|22.902523479273974| 63.39082702246432|42.99324764351807|             1|          0|\n",
      "|Planet_24869|        4|     881| 0.272197404132533|1.1764842767184982| 36.99844187739444|29.49224607367769|             1|          0|\n",
      "|Planet_70594|        7|    1003|1.7310599130799436| 21.48032382478311|23.266169650283757|20.65595846047114|             0|          0|\n",
      "+------------+---------+--------+------------------+------------------+------------------+-----------------+--------------+-----------+\n",
      "only showing top 5 rows\n",
      "\n"
     ]
    }
   ],
   "source": [
    "df_planets.show(5)"
   ]
  },
  {
   "cell_type": "code",
   "execution_count": 5,
   "metadata": {},
   "outputs": [
    {
     "name": "stdout",
     "output_type": "stream",
     "text": [
      "+------------+---------------+--------+------------------+-----------------------+------------------+-----------------+--------------+-----------+\n",
      "|         Nom|Nombre_de_Lunes|Mineraux|           Gravite|Heures_d_Ensoleillement|       Temperature|Temps_de_Rotation|Presence_d_Eau|Colonisable|\n",
      "+------------+---------------+--------+------------------+-----------------------+------------------+-----------------+--------------+-----------+\n",
      "|Planet_18329|              5|      59| 1.981602859469247|     5.8168191458771705|28.381006239674264|56.76091939405808|             0|          0|\n",
      "|Planet_28900|              8|     672|1.3881504830806715|     14.715293728903166| 27.48564614824687| 51.0340563211323|             0|          0|\n",
      "|Planet_56161|              3|     764|2.5308267251520093|     22.902523479273974| 63.39082702246432|42.99324764351807|             1|          0|\n",
      "|Planet_24869|              4|     881| 0.272197404132533|     1.1764842767184982| 36.99844187739444|29.49224607367769|             1|          0|\n",
      "|Planet_70594|              7|    1003|1.7310599130799436|      21.48032382478311|23.266169650283757|20.65595846047114|             0|          0|\n",
      "+------------+---------------+--------+------------------+-----------------------+------------------+-----------------+--------------+-----------+\n",
      "only showing top 5 rows\n",
      "\n"
     ]
    }
   ],
   "source": [
    "# Renommer les colonnes en français\n",
    "df_planets = df_planets.withColumnRenamed(\"Name\", \"Nom\") \\\n",
    "               .withColumnRenamed(\"Num_Moons\", \"Nombre_de_Lunes\") \\\n",
    "               .withColumnRenamed(\"Minerals\", \"Mineraux\") \\\n",
    "               .withColumnRenamed(\"Gravity\", \"Gravite\") \\\n",
    "               .withColumnRenamed(\"Sunlight_Hours\", \"Heures_d_Ensoleillement\") \\\n",
    "               .withColumnRenamed(\"Temperature\", \"Temperature\") \\\n",
    "               .withColumnRenamed(\"Rotation_Time\", \"Temps_de_Rotation\") \\\n",
    "               .withColumnRenamed(\"Water_Presence\", \"Presence_d_Eau\") \\\n",
    "               .withColumnRenamed(\"Colonisable\", \"Colonisable\")\n",
    "\n",
    "# Affichage du DataFrame avec les noms de colonnes en français\n",
    "df_planets.show(5)\n"
   ]
  },
  {
   "cell_type": "markdown",
   "metadata": {},
   "source": [
    "### Analyser le dataframe"
   ]
  },
  {
   "cell_type": "code",
   "execution_count": 6,
   "metadata": {},
   "outputs": [
    {
     "name": "stdout",
     "output_type": "stream",
     "text": [
      "root\n",
      " |-- Nom: string (nullable = true)\n",
      " |-- Nombre_de_Lunes: string (nullable = true)\n",
      " |-- Mineraux: string (nullable = true)\n",
      " |-- Gravite: string (nullable = true)\n",
      " |-- Heures_d_Ensoleillement: string (nullable = true)\n",
      " |-- Temperature: string (nullable = true)\n",
      " |-- Temps_de_Rotation: string (nullable = true)\n",
      " |-- Presence_d_Eau: string (nullable = true)\n",
      " |-- Colonisable: string (nullable = true)\n",
      "\n"
     ]
    }
   ],
   "source": [
    "# Vérifier les types après la conversion\n",
    "df_planets.printSchema()"
   ]
  },
  {
   "cell_type": "code",
   "execution_count": 7,
   "metadata": {},
   "outputs": [
    {
     "name": "stdout",
     "output_type": "stream",
     "text": [
      "+------------+---------------+--------+------------------+-----------------------+------------------+-----------------+--------------+-----------+\n",
      "|         Nom|Nombre_de_Lunes|Mineraux|           Gravite|Heures_d_Ensoleillement|       Temperature|Temps_de_Rotation|Presence_d_Eau|Colonisable|\n",
      "+------------+---------------+--------+------------------+-----------------------+------------------+-----------------+--------------+-----------+\n",
      "|Planet_18329|              5|      59| 1.981602859469247|     5.8168191458771705|28.381006239674264|56.76091939405808|             0|          0|\n",
      "|Planet_28900|              8|     672|1.3881504830806715|     14.715293728903166| 27.48564614824687| 51.0340563211323|             0|          0|\n",
      "|Planet_56161|              3|     764|2.5308267251520093|     22.902523479273974| 63.39082702246432|42.99324764351807|             1|          0|\n",
      "|Planet_24869|              4|     881| 0.272197404132533|     1.1764842767184982| 36.99844187739444|29.49224607367769|             1|          0|\n",
      "|Planet_70594|              7|    1003|1.7310599130799436|      21.48032382478311|23.266169650283757|20.65595846047114|             0|          0|\n",
      "+------------+---------------+--------+------------------+-----------------------+------------------+-----------------+--------------+-----------+\n",
      "only showing top 5 rows\n",
      "\n"
     ]
    }
   ],
   "source": [
    "# Conversion des types de données après renommage\n",
    "df_planets = df_planets \\\n",
    "    .withColumn(\"Nombre_de_Lunes\", df_planets[\"Nombre_de_Lunes\"].cast(IntegerType())) \\\n",
    "    .withColumn(\"Mineraux\", df_planets[\"Mineraux\"].cast(IntegerType())) \\\n",
    "    .withColumn(\"Gravite\", df_planets[\"Gravite\"].cast(DoubleType())) \\\n",
    "    .withColumn(\"Heures_d_Ensoleillement\", df_planets[\"Heures_d_Ensoleillement\"].cast(DoubleType())) \\\n",
    "    .withColumn(\"Temperature\", df_planets[\"Temperature\"].cast(DoubleType())) \\\n",
    "    .withColumn(\"Temps_de_Rotation\", df_planets[\"Temps_de_Rotation\"].cast(DoubleType())) \\\n",
    "    .withColumn(\"Presence_d_Eau\", df_planets[\"Presence_d_Eau\"].cast(IntegerType())) \\\n",
    "    .withColumn(\"Colonisable\", df_planets[\"Colonisable\"].cast(IntegerType()))\n",
    "\n",
    "# Affichage du DataFrame avec les types de données convertis\n",
    "df_planets.show(5)"
   ]
  },
  {
   "cell_type": "code",
   "execution_count": 8,
   "metadata": {},
   "outputs": [
    {
     "name": "stdout",
     "output_type": "stream",
     "text": [
      "+---+---------------+--------+-------+-----------------------+-----------+-----------------+--------------+-----------+\n",
      "|Nom|Nombre_de_Lunes|Mineraux|Gravite|Heures_d_Ensoleillement|Temperature|Temps_de_Rotation|Presence_d_Eau|Colonisable|\n",
      "+---+---------------+--------+-------+-----------------------+-----------+-----------------+--------------+-----------+\n",
      "|  0|              0|       0|      0|                      0|          0|                0|             0|          0|\n",
      "+---+---------------+--------+-------+-----------------------+-----------+-----------------+--------------+-----------+\n",
      "\n"
     ]
    }
   ],
   "source": [
    "# Calculer le nombre de valeurs nulles par colonne\n",
    "df_planets.select([sum(col(c).isNull().cast(\"int\")).alias(c) for c in df_planets.columns]).show()\n"
   ]
  },
  {
   "cell_type": "code",
   "execution_count": 9,
   "metadata": {},
   "outputs": [],
   "source": [
    "df_planets = df_planets.dropna()"
   ]
  },
  {
   "cell_type": "code",
   "execution_count": null,
   "metadata": {},
   "outputs": [],
   "source": [
    "df_planets."
   ]
  },
  {
   "cell_type": "markdown",
   "metadata": {},
   "source": [
    "### Prediction"
   ]
  },
  {
   "cell_type": "code",
   "execution_count": 10,
   "metadata": {},
   "outputs": [
    {
     "data": {
      "text/html": [
       "<div>\n",
       "<style scoped>\n",
       "    .dataframe tbody tr th:only-of-type {\n",
       "        vertical-align: middle;\n",
       "    }\n",
       "\n",
       "    .dataframe tbody tr th {\n",
       "        vertical-align: top;\n",
       "    }\n",
       "\n",
       "    .dataframe thead th {\n",
       "        text-align: right;\n",
       "    }\n",
       "</style>\n",
       "<table border=\"1\" class=\"dataframe\">\n",
       "  <thead>\n",
       "    <tr style=\"text-align: right;\">\n",
       "      <th></th>\n",
       "      <th>Nom</th>\n",
       "      <th>Nombre_de_Lunes</th>\n",
       "      <th>Mineraux</th>\n",
       "      <th>Gravite</th>\n",
       "      <th>Heures_d_Ensoleillement</th>\n",
       "      <th>Temperature</th>\n",
       "      <th>Temps_de_Rotation</th>\n",
       "      <th>Presence_d_Eau</th>\n",
       "      <th>Colonisable</th>\n",
       "    </tr>\n",
       "  </thead>\n",
       "  <tbody>\n",
       "    <tr>\n",
       "      <th>0</th>\n",
       "      <td>Planet_18329</td>\n",
       "      <td>5</td>\n",
       "      <td>59</td>\n",
       "      <td>1.981603</td>\n",
       "      <td>5.816819</td>\n",
       "      <td>28.381006</td>\n",
       "      <td>56.760919</td>\n",
       "      <td>0</td>\n",
       "      <td>0</td>\n",
       "    </tr>\n",
       "    <tr>\n",
       "      <th>1</th>\n",
       "      <td>Planet_28900</td>\n",
       "      <td>8</td>\n",
       "      <td>672</td>\n",
       "      <td>1.388150</td>\n",
       "      <td>14.715294</td>\n",
       "      <td>27.485646</td>\n",
       "      <td>51.034056</td>\n",
       "      <td>0</td>\n",
       "      <td>0</td>\n",
       "    </tr>\n",
       "    <tr>\n",
       "      <th>2</th>\n",
       "      <td>Planet_56161</td>\n",
       "      <td>3</td>\n",
       "      <td>764</td>\n",
       "      <td>2.530827</td>\n",
       "      <td>22.902523</td>\n",
       "      <td>63.390827</td>\n",
       "      <td>42.993248</td>\n",
       "      <td>1</td>\n",
       "      <td>0</td>\n",
       "    </tr>\n",
       "    <tr>\n",
       "      <th>3</th>\n",
       "      <td>Planet_24869</td>\n",
       "      <td>4</td>\n",
       "      <td>881</td>\n",
       "      <td>0.272197</td>\n",
       "      <td>1.176484</td>\n",
       "      <td>36.998442</td>\n",
       "      <td>29.492246</td>\n",
       "      <td>1</td>\n",
       "      <td>0</td>\n",
       "    </tr>\n",
       "    <tr>\n",
       "      <th>4</th>\n",
       "      <td>Planet_70594</td>\n",
       "      <td>7</td>\n",
       "      <td>1003</td>\n",
       "      <td>1.731060</td>\n",
       "      <td>21.480324</td>\n",
       "      <td>23.266170</td>\n",
       "      <td>20.655958</td>\n",
       "      <td>0</td>\n",
       "      <td>0</td>\n",
       "    </tr>\n",
       "  </tbody>\n",
       "</table>\n",
       "</div>"
      ],
      "text/plain": [
       "            Nom  Nombre_de_Lunes  Mineraux   Gravite  Heures_d_Ensoleillement  \\\n",
       "0  Planet_18329                5        59  1.981603                 5.816819   \n",
       "1  Planet_28900                8       672  1.388150                14.715294   \n",
       "2  Planet_56161                3       764  2.530827                22.902523   \n",
       "3  Planet_24869                4       881  0.272197                 1.176484   \n",
       "4  Planet_70594                7      1003  1.731060                21.480324   \n",
       "\n",
       "   Temperature  Temps_de_Rotation  Presence_d_Eau  Colonisable  \n",
       "0    28.381006          56.760919               0            0  \n",
       "1    27.485646          51.034056               0            0  \n",
       "2    63.390827          42.993248               1            0  \n",
       "3    36.998442          29.492246               1            0  \n",
       "4    23.266170          20.655958               0            0  "
      ]
     },
     "execution_count": 10,
     "metadata": {},
     "output_type": "execute_result"
    }
   ],
   "source": [
    "## on converit le dataframe en pandas\n",
    "\n",
    "df = df_planets.toPandas()\n",
    "\n",
    "df.head()"
   ]
  },
  {
   "cell_type": "code",
   "execution_count": 13,
   "metadata": {},
   "outputs": [],
   "source": [
    "## Divise le dataframe\n",
    "y  = df[\"Colonisable\"]\n",
    "X  = df.drop(\"Colonisable\" , axis = 1)"
   ]
  },
  {
   "cell_type": "code",
   "execution_count": 35,
   "metadata": {},
   "outputs": [],
   "source": [
    "# Division des données en ensembles d'entraînement et de test\n",
    "X_train, X_test, y_train, y_test = train_test_split(X, y, test_size=0.2, random_state=42)\n",
    "\n",
    "# Ajouter une dimension pour en faire un tableau 2D\n",
    "y_train = y_train.values.reshape(-1, 1)\n",
    "y_test = y_test.values.reshape(-1, 1)\n"
   ]
  },
  {
   "cell_type": "code",
   "execution_count": 36,
   "metadata": {},
   "outputs": [
    {
     "ename": "ValueError",
     "evalue": "could not convert string to float: 'Planet_91666'",
     "output_type": "error",
     "traceback": [
      "\u001b[0;31m---------------------------------------------------------------------------\u001b[0m",
      "\u001b[0;31mValueError\u001b[0m                                Traceback (most recent call last)",
      "Cell \u001b[0;32mIn [36], line 2\u001b[0m\n\u001b[1;32m      1\u001b[0m \u001b[38;5;66;03m# Normalisation des caractéristiques\u001b[39;00m\n\u001b[0;32m----> 2\u001b[0m scaler \u001b[38;5;241m=\u001b[39m \u001b[43mStandardScaler\u001b[49m\u001b[43m(\u001b[49m\u001b[43m)\u001b[49m\u001b[38;5;241;43m.\u001b[39;49m\u001b[43mfit\u001b[49m\u001b[43m(\u001b[49m\u001b[43mX_train\u001b[49m\u001b[43m)\u001b[49m\n\u001b[1;32m      3\u001b[0m X_train_scaled \u001b[38;5;241m=\u001b[39m scaler\u001b[38;5;241m.\u001b[39mtransform(X_train)\n\u001b[1;32m      4\u001b[0m X_test_scaled \u001b[38;5;241m=\u001b[39m scaler\u001b[38;5;241m.\u001b[39mtransform(X_test)\n",
      "File \u001b[0;32m/opt/conda/lib/python3.10/site-packages/sklearn/preprocessing/_data.py:809\u001b[0m, in \u001b[0;36mStandardScaler.fit\u001b[0;34m(self, X, y, sample_weight)\u001b[0m\n\u001b[1;32m    807\u001b[0m \u001b[38;5;66;03m# Reset internal state before fitting\u001b[39;00m\n\u001b[1;32m    808\u001b[0m \u001b[38;5;28mself\u001b[39m\u001b[38;5;241m.\u001b[39m_reset()\n\u001b[0;32m--> 809\u001b[0m \u001b[38;5;28;01mreturn\u001b[39;00m \u001b[38;5;28;43mself\u001b[39;49m\u001b[38;5;241;43m.\u001b[39;49m\u001b[43mpartial_fit\u001b[49m\u001b[43m(\u001b[49m\u001b[43mX\u001b[49m\u001b[43m,\u001b[49m\u001b[43m \u001b[49m\u001b[43my\u001b[49m\u001b[43m,\u001b[49m\u001b[43m \u001b[49m\u001b[43msample_weight\u001b[49m\u001b[43m)\u001b[49m\n",
      "File \u001b[0;32m/opt/conda/lib/python3.10/site-packages/sklearn/preprocessing/_data.py:844\u001b[0m, in \u001b[0;36mStandardScaler.partial_fit\u001b[0;34m(self, X, y, sample_weight)\u001b[0m\n\u001b[1;32m    812\u001b[0m \u001b[38;5;124;03m\"\"\"Online computation of mean and std on X for later scaling.\u001b[39;00m\n\u001b[1;32m    813\u001b[0m \n\u001b[1;32m    814\u001b[0m \u001b[38;5;124;03mAll of X is processed as a single batch. This is intended for cases\u001b[39;00m\n\u001b[0;32m   (...)\u001b[0m\n\u001b[1;32m    841\u001b[0m \u001b[38;5;124;03m    Fitted scaler.\u001b[39;00m\n\u001b[1;32m    842\u001b[0m \u001b[38;5;124;03m\"\"\"\u001b[39;00m\n\u001b[1;32m    843\u001b[0m first_call \u001b[38;5;241m=\u001b[39m \u001b[38;5;129;01mnot\u001b[39;00m \u001b[38;5;28mhasattr\u001b[39m(\u001b[38;5;28mself\u001b[39m, \u001b[38;5;124m\"\u001b[39m\u001b[38;5;124mn_samples_seen_\u001b[39m\u001b[38;5;124m\"\u001b[39m)\n\u001b[0;32m--> 844\u001b[0m X \u001b[38;5;241m=\u001b[39m \u001b[38;5;28;43mself\u001b[39;49m\u001b[38;5;241;43m.\u001b[39;49m\u001b[43m_validate_data\u001b[49m\u001b[43m(\u001b[49m\n\u001b[1;32m    845\u001b[0m \u001b[43m    \u001b[49m\u001b[43mX\u001b[49m\u001b[43m,\u001b[49m\n\u001b[1;32m    846\u001b[0m \u001b[43m    \u001b[49m\u001b[43maccept_sparse\u001b[49m\u001b[38;5;241;43m=\u001b[39;49m\u001b[43m(\u001b[49m\u001b[38;5;124;43m\"\u001b[39;49m\u001b[38;5;124;43mcsr\u001b[39;49m\u001b[38;5;124;43m\"\u001b[39;49m\u001b[43m,\u001b[49m\u001b[43m \u001b[49m\u001b[38;5;124;43m\"\u001b[39;49m\u001b[38;5;124;43mcsc\u001b[39;49m\u001b[38;5;124;43m\"\u001b[39;49m\u001b[43m)\u001b[49m\u001b[43m,\u001b[49m\n\u001b[1;32m    847\u001b[0m \u001b[43m    \u001b[49m\u001b[43mdtype\u001b[49m\u001b[38;5;241;43m=\u001b[39;49m\u001b[43mFLOAT_DTYPES\u001b[49m\u001b[43m,\u001b[49m\n\u001b[1;32m    848\u001b[0m \u001b[43m    \u001b[49m\u001b[43mforce_all_finite\u001b[49m\u001b[38;5;241;43m=\u001b[39;49m\u001b[38;5;124;43m\"\u001b[39;49m\u001b[38;5;124;43mallow-nan\u001b[39;49m\u001b[38;5;124;43m\"\u001b[39;49m\u001b[43m,\u001b[49m\n\u001b[1;32m    849\u001b[0m \u001b[43m    \u001b[49m\u001b[43mreset\u001b[49m\u001b[38;5;241;43m=\u001b[39;49m\u001b[43mfirst_call\u001b[49m\u001b[43m,\u001b[49m\n\u001b[1;32m    850\u001b[0m \u001b[43m\u001b[49m\u001b[43m)\u001b[49m\n\u001b[1;32m    851\u001b[0m n_features \u001b[38;5;241m=\u001b[39m X\u001b[38;5;241m.\u001b[39mshape[\u001b[38;5;241m1\u001b[39m]\n\u001b[1;32m    853\u001b[0m \u001b[38;5;28;01mif\u001b[39;00m sample_weight \u001b[38;5;129;01mis\u001b[39;00m \u001b[38;5;129;01mnot\u001b[39;00m \u001b[38;5;28;01mNone\u001b[39;00m:\n",
      "File \u001b[0;32m/opt/conda/lib/python3.10/site-packages/sklearn/base.py:577\u001b[0m, in \u001b[0;36mBaseEstimator._validate_data\u001b[0;34m(self, X, y, reset, validate_separately, **check_params)\u001b[0m\n\u001b[1;32m    575\u001b[0m     \u001b[38;5;28;01mraise\u001b[39;00m \u001b[38;5;167;01mValueError\u001b[39;00m(\u001b[38;5;124m\"\u001b[39m\u001b[38;5;124mValidation should be done on X, y or both.\u001b[39m\u001b[38;5;124m\"\u001b[39m)\n\u001b[1;32m    576\u001b[0m \u001b[38;5;28;01melif\u001b[39;00m \u001b[38;5;129;01mnot\u001b[39;00m no_val_X \u001b[38;5;129;01mand\u001b[39;00m no_val_y:\n\u001b[0;32m--> 577\u001b[0m     X \u001b[38;5;241m=\u001b[39m \u001b[43mcheck_array\u001b[49m\u001b[43m(\u001b[49m\u001b[43mX\u001b[49m\u001b[43m,\u001b[49m\u001b[43m \u001b[49m\u001b[43minput_name\u001b[49m\u001b[38;5;241;43m=\u001b[39;49m\u001b[38;5;124;43m\"\u001b[39;49m\u001b[38;5;124;43mX\u001b[39;49m\u001b[38;5;124;43m\"\u001b[39;49m\u001b[43m,\u001b[49m\u001b[43m \u001b[49m\u001b[38;5;241;43m*\u001b[39;49m\u001b[38;5;241;43m*\u001b[39;49m\u001b[43mcheck_params\u001b[49m\u001b[43m)\u001b[49m\n\u001b[1;32m    578\u001b[0m     out \u001b[38;5;241m=\u001b[39m X\n\u001b[1;32m    579\u001b[0m \u001b[38;5;28;01melif\u001b[39;00m no_val_X \u001b[38;5;129;01mand\u001b[39;00m \u001b[38;5;129;01mnot\u001b[39;00m no_val_y:\n",
      "File \u001b[0;32m/opt/conda/lib/python3.10/site-packages/sklearn/utils/validation.py:856\u001b[0m, in \u001b[0;36mcheck_array\u001b[0;34m(array, accept_sparse, accept_large_sparse, dtype, order, copy, force_all_finite, ensure_2d, allow_nd, ensure_min_samples, ensure_min_features, estimator, input_name)\u001b[0m\n\u001b[1;32m    854\u001b[0m         array \u001b[38;5;241m=\u001b[39m array\u001b[38;5;241m.\u001b[39mastype(dtype, casting\u001b[38;5;241m=\u001b[39m\u001b[38;5;124m\"\u001b[39m\u001b[38;5;124munsafe\u001b[39m\u001b[38;5;124m\"\u001b[39m, copy\u001b[38;5;241m=\u001b[39m\u001b[38;5;28;01mFalse\u001b[39;00m)\n\u001b[1;32m    855\u001b[0m     \u001b[38;5;28;01melse\u001b[39;00m:\n\u001b[0;32m--> 856\u001b[0m         array \u001b[38;5;241m=\u001b[39m \u001b[43mnp\u001b[49m\u001b[38;5;241;43m.\u001b[39;49m\u001b[43masarray\u001b[49m\u001b[43m(\u001b[49m\u001b[43marray\u001b[49m\u001b[43m,\u001b[49m\u001b[43m \u001b[49m\u001b[43morder\u001b[49m\u001b[38;5;241;43m=\u001b[39;49m\u001b[43morder\u001b[49m\u001b[43m,\u001b[49m\u001b[43m \u001b[49m\u001b[43mdtype\u001b[49m\u001b[38;5;241;43m=\u001b[39;49m\u001b[43mdtype\u001b[49m\u001b[43m)\u001b[49m\n\u001b[1;32m    857\u001b[0m \u001b[38;5;28;01mexcept\u001b[39;00m ComplexWarning \u001b[38;5;28;01mas\u001b[39;00m complex_warning:\n\u001b[1;32m    858\u001b[0m     \u001b[38;5;28;01mraise\u001b[39;00m \u001b[38;5;167;01mValueError\u001b[39;00m(\n\u001b[1;32m    859\u001b[0m         \u001b[38;5;124m\"\u001b[39m\u001b[38;5;124mComplex data not supported\u001b[39m\u001b[38;5;130;01m\\n\u001b[39;00m\u001b[38;5;132;01m{}\u001b[39;00m\u001b[38;5;130;01m\\n\u001b[39;00m\u001b[38;5;124m\"\u001b[39m\u001b[38;5;241m.\u001b[39mformat(array)\n\u001b[1;32m    860\u001b[0m     ) \u001b[38;5;28;01mfrom\u001b[39;00m \u001b[38;5;21;01mcomplex_warning\u001b[39;00m\n",
      "File \u001b[0;32m/opt/conda/lib/python3.10/site-packages/pandas/core/generic.py:2070\u001b[0m, in \u001b[0;36mNDFrame.__array__\u001b[0;34m(self, dtype)\u001b[0m\n\u001b[1;32m   2069\u001b[0m \u001b[38;5;28;01mdef\u001b[39;00m \u001b[38;5;21m__array__\u001b[39m(\u001b[38;5;28mself\u001b[39m, dtype: npt\u001b[38;5;241m.\u001b[39mDTypeLike \u001b[38;5;241m|\u001b[39m \u001b[38;5;28;01mNone\u001b[39;00m \u001b[38;5;241m=\u001b[39m \u001b[38;5;28;01mNone\u001b[39;00m) \u001b[38;5;241m-\u001b[39m\u001b[38;5;241m>\u001b[39m np\u001b[38;5;241m.\u001b[39mndarray:\n\u001b[0;32m-> 2070\u001b[0m     \u001b[38;5;28;01mreturn\u001b[39;00m \u001b[43mnp\u001b[49m\u001b[38;5;241;43m.\u001b[39;49m\u001b[43masarray\u001b[49m\u001b[43m(\u001b[49m\u001b[38;5;28;43mself\u001b[39;49m\u001b[38;5;241;43m.\u001b[39;49m\u001b[43m_values\u001b[49m\u001b[43m,\u001b[49m\u001b[43m \u001b[49m\u001b[43mdtype\u001b[49m\u001b[38;5;241;43m=\u001b[39;49m\u001b[43mdtype\u001b[49m\u001b[43m)\u001b[49m\n",
      "\u001b[0;31mValueError\u001b[0m: could not convert string to float: 'Planet_91666'"
     ]
    }
   ],
   "source": [
    "\n",
    "# Normalisation des caractéristiques\n",
    "scaler = StandardScaler().fit(X_train)\n",
    "X_train_scaled = scaler.transform(X_train)\n",
    "X_test_scaled = scaler.transform(X_test)\n"
   ]
  }
 ],
 "metadata": {
  "kernelspec": {
   "display_name": "Python 3 (ipykernel)",
   "language": "python",
   "name": "python3"
  },
  "language_info": {
   "codemirror_mode": {
    "name": "ipython",
    "version": 3
   },
   "file_extension": ".py",
   "mimetype": "text/x-python",
   "name": "python",
   "nbconvert_exporter": "python",
   "pygments_lexer": "ipython3",
   "version": "3.10.6"
  }
 },
 "nbformat": 4,
 "nbformat_minor": 4
}
